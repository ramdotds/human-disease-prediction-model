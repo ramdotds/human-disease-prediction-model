{
 "cells": [
  {
   "cell_type": "markdown",
   "metadata": {},
   "source": [
    "# Desease Pridiction Deep Neural Model"
   ]
  },
  {
   "cell_type": "code",
   "execution_count": 1,
   "metadata": {},
   "outputs": [],
   "source": [
    "import numpy as np\n",
    "import pandas as pd\n",
    "import matplotlib.pyplot as plt\n",
    "import seaborn as sns"
   ]
  },
  {
   "cell_type": "markdown",
   "metadata": {},
   "source": [
    "### Load Dataset and Visualize"
   ]
  },
  {
   "cell_type": "code",
   "execution_count": 2,
   "metadata": {},
   "outputs": [
    {
     "data": {
      "text/plain": [
       "((4920, 134), (42, 133))"
      ]
     },
     "execution_count": 2,
     "metadata": {},
     "output_type": "execute_result"
    }
   ],
   "source": [
    "train = pd.read_csv('./Dataset/training.csv')\n",
    "test = pd.read_csv('./Dataset/testing.csv')\n",
    "\n",
    "train.shape,test.shape"
   ]
  },
  {
   "cell_type": "code",
   "execution_count": 3,
   "metadata": {},
   "outputs": [
    {
     "data": {
      "text/html": [
       "<div>\n",
       "<style scoped>\n",
       "    .dataframe tbody tr th:only-of-type {\n",
       "        vertical-align: middle;\n",
       "    }\n",
       "\n",
       "    .dataframe tbody tr th {\n",
       "        vertical-align: top;\n",
       "    }\n",
       "\n",
       "    .dataframe thead th {\n",
       "        text-align: right;\n",
       "    }\n",
       "</style>\n",
       "<table border=\"1\" class=\"dataframe\">\n",
       "  <thead>\n",
       "    <tr style=\"text-align: right;\">\n",
       "      <th></th>\n",
       "      <th>itching</th>\n",
       "      <th>skin_rash</th>\n",
       "      <th>nodal_skin_eruptions</th>\n",
       "      <th>continuous_sneezing</th>\n",
       "      <th>shivering</th>\n",
       "      <th>chills</th>\n",
       "      <th>joint_pain</th>\n",
       "      <th>stomach_pain</th>\n",
       "      <th>acidity</th>\n",
       "      <th>ulcers_on_tongue</th>\n",
       "      <th>...</th>\n",
       "      <th>scurring</th>\n",
       "      <th>skin_peeling</th>\n",
       "      <th>silver_like_dusting</th>\n",
       "      <th>small_dents_in_nails</th>\n",
       "      <th>inflammatory_nails</th>\n",
       "      <th>blister</th>\n",
       "      <th>red_sore_around_nose</th>\n",
       "      <th>yellow_crust_ooze</th>\n",
       "      <th>prognosis</th>\n",
       "      <th>Unnamed: 133</th>\n",
       "    </tr>\n",
       "  </thead>\n",
       "  <tbody>\n",
       "    <tr>\n",
       "      <th>0</th>\n",
       "      <td>1</td>\n",
       "      <td>1</td>\n",
       "      <td>1</td>\n",
       "      <td>0</td>\n",
       "      <td>0</td>\n",
       "      <td>0</td>\n",
       "      <td>0</td>\n",
       "      <td>0</td>\n",
       "      <td>0</td>\n",
       "      <td>0</td>\n",
       "      <td>...</td>\n",
       "      <td>0</td>\n",
       "      <td>0</td>\n",
       "      <td>0</td>\n",
       "      <td>0</td>\n",
       "      <td>0</td>\n",
       "      <td>0</td>\n",
       "      <td>0</td>\n",
       "      <td>0</td>\n",
       "      <td>Fungal infection</td>\n",
       "      <td>NaN</td>\n",
       "    </tr>\n",
       "    <tr>\n",
       "      <th>1</th>\n",
       "      <td>0</td>\n",
       "      <td>1</td>\n",
       "      <td>1</td>\n",
       "      <td>0</td>\n",
       "      <td>0</td>\n",
       "      <td>0</td>\n",
       "      <td>0</td>\n",
       "      <td>0</td>\n",
       "      <td>0</td>\n",
       "      <td>0</td>\n",
       "      <td>...</td>\n",
       "      <td>0</td>\n",
       "      <td>0</td>\n",
       "      <td>0</td>\n",
       "      <td>0</td>\n",
       "      <td>0</td>\n",
       "      <td>0</td>\n",
       "      <td>0</td>\n",
       "      <td>0</td>\n",
       "      <td>Fungal infection</td>\n",
       "      <td>NaN</td>\n",
       "    </tr>\n",
       "    <tr>\n",
       "      <th>2</th>\n",
       "      <td>1</td>\n",
       "      <td>0</td>\n",
       "      <td>1</td>\n",
       "      <td>0</td>\n",
       "      <td>0</td>\n",
       "      <td>0</td>\n",
       "      <td>0</td>\n",
       "      <td>0</td>\n",
       "      <td>0</td>\n",
       "      <td>0</td>\n",
       "      <td>...</td>\n",
       "      <td>0</td>\n",
       "      <td>0</td>\n",
       "      <td>0</td>\n",
       "      <td>0</td>\n",
       "      <td>0</td>\n",
       "      <td>0</td>\n",
       "      <td>0</td>\n",
       "      <td>0</td>\n",
       "      <td>Fungal infection</td>\n",
       "      <td>NaN</td>\n",
       "    </tr>\n",
       "    <tr>\n",
       "      <th>3</th>\n",
       "      <td>1</td>\n",
       "      <td>1</td>\n",
       "      <td>0</td>\n",
       "      <td>0</td>\n",
       "      <td>0</td>\n",
       "      <td>0</td>\n",
       "      <td>0</td>\n",
       "      <td>0</td>\n",
       "      <td>0</td>\n",
       "      <td>0</td>\n",
       "      <td>...</td>\n",
       "      <td>0</td>\n",
       "      <td>0</td>\n",
       "      <td>0</td>\n",
       "      <td>0</td>\n",
       "      <td>0</td>\n",
       "      <td>0</td>\n",
       "      <td>0</td>\n",
       "      <td>0</td>\n",
       "      <td>Fungal infection</td>\n",
       "      <td>NaN</td>\n",
       "    </tr>\n",
       "    <tr>\n",
       "      <th>4</th>\n",
       "      <td>1</td>\n",
       "      <td>1</td>\n",
       "      <td>1</td>\n",
       "      <td>0</td>\n",
       "      <td>0</td>\n",
       "      <td>0</td>\n",
       "      <td>0</td>\n",
       "      <td>0</td>\n",
       "      <td>0</td>\n",
       "      <td>0</td>\n",
       "      <td>...</td>\n",
       "      <td>0</td>\n",
       "      <td>0</td>\n",
       "      <td>0</td>\n",
       "      <td>0</td>\n",
       "      <td>0</td>\n",
       "      <td>0</td>\n",
       "      <td>0</td>\n",
       "      <td>0</td>\n",
       "      <td>Fungal infection</td>\n",
       "      <td>NaN</td>\n",
       "    </tr>\n",
       "  </tbody>\n",
       "</table>\n",
       "<p>5 rows × 134 columns</p>\n",
       "</div>"
      ],
      "text/plain": [
       "   itching  skin_rash  nodal_skin_eruptions  continuous_sneezing  shivering  \\\n",
       "0        1          1                     1                    0          0   \n",
       "1        0          1                     1                    0          0   \n",
       "2        1          0                     1                    0          0   \n",
       "3        1          1                     0                    0          0   \n",
       "4        1          1                     1                    0          0   \n",
       "\n",
       "   chills  joint_pain  stomach_pain  acidity  ulcers_on_tongue  ...  scurring  \\\n",
       "0       0           0             0        0                 0  ...         0   \n",
       "1       0           0             0        0                 0  ...         0   \n",
       "2       0           0             0        0                 0  ...         0   \n",
       "3       0           0             0        0                 0  ...         0   \n",
       "4       0           0             0        0                 0  ...         0   \n",
       "\n",
       "   skin_peeling  silver_like_dusting  small_dents_in_nails  \\\n",
       "0             0                    0                     0   \n",
       "1             0                    0                     0   \n",
       "2             0                    0                     0   \n",
       "3             0                    0                     0   \n",
       "4             0                    0                     0   \n",
       "\n",
       "   inflammatory_nails  blister  red_sore_around_nose  yellow_crust_ooze  \\\n",
       "0                   0        0                     0                  0   \n",
       "1                   0        0                     0                  0   \n",
       "2                   0        0                     0                  0   \n",
       "3                   0        0                     0                  0   \n",
       "4                   0        0                     0                  0   \n",
       "\n",
       "          prognosis  Unnamed: 133  \n",
       "0  Fungal infection           NaN  \n",
       "1  Fungal infection           NaN  \n",
       "2  Fungal infection           NaN  \n",
       "3  Fungal infection           NaN  \n",
       "4  Fungal infection           NaN  \n",
       "\n",
       "[5 rows x 134 columns]"
      ]
     },
     "execution_count": 3,
     "metadata": {},
     "output_type": "execute_result"
    }
   ],
   "source": [
    "train.head()"
   ]
  },
  {
   "cell_type": "code",
   "execution_count": 4,
   "metadata": {},
   "outputs": [
    {
     "data": {
      "text/plain": [
       "array([nan])"
      ]
     },
     "execution_count": 4,
     "metadata": {},
     "output_type": "execute_result"
    }
   ],
   "source": [
    "train['Unnamed: 133'].unique()"
   ]
  },
  {
   "cell_type": "code",
   "execution_count": 5,
   "metadata": {},
   "outputs": [],
   "source": [
    "train.drop(columns=['Unnamed: 133'],inplace=True)"
   ]
  },
  {
   "cell_type": "code",
   "execution_count": 6,
   "metadata": {},
   "outputs": [
    {
     "data": {
      "text/plain": [
       "(4962, 133)"
      ]
     },
     "execution_count": 6,
     "metadata": {},
     "output_type": "execute_result"
    }
   ],
   "source": [
    "df = pd.concat([train,test])\n",
    "df.shape"
   ]
  },
  {
   "cell_type": "code",
   "execution_count": 7,
   "metadata": {},
   "outputs": [
    {
     "data": {
      "text/plain": [
       "array(['Fungal infection', 'Allergy', 'GERD', 'Chronic cholestasis',\n",
       "       'Drug Reaction', 'Peptic ulcer diseae', 'AIDS', 'Diabetes ',\n",
       "       'Gastroenteritis', 'Bronchial Asthma', 'Hypertension ', 'Migraine',\n",
       "       'Cervical spondylosis', 'Paralysis (brain hemorrhage)', 'Jaundice',\n",
       "       'Malaria', 'Chicken pox', 'Dengue', 'Typhoid', 'hepatitis A',\n",
       "       'Hepatitis B', 'Hepatitis C', 'Hepatitis D', 'Hepatitis E',\n",
       "       'Alcoholic hepatitis', 'Tuberculosis', 'Common Cold', 'Pneumonia',\n",
       "       'Dimorphic hemmorhoids(piles)', 'Heart attack', 'Varicose veins',\n",
       "       'Hypothyroidism', 'Hyperthyroidism', 'Hypoglycemia',\n",
       "       'Osteoarthristis', 'Arthritis',\n",
       "       '(vertigo) Paroymsal  Positional Vertigo', 'Acne',\n",
       "       'Urinary tract infection', 'Psoriasis', 'Impetigo'], dtype=object)"
      ]
     },
     "execution_count": 7,
     "metadata": {},
     "output_type": "execute_result"
    }
   ],
   "source": [
    "prognosis_col = df['prognosis'].unique()\n",
    "prognosis_col"
   ]
  },
  {
   "cell_type": "markdown",
   "metadata": {},
   "source": [
    "### Label Encoder"
   ]
  },
  {
   "cell_type": "code",
   "execution_count": 8,
   "metadata": {},
   "outputs": [],
   "source": [
    "from sklearn.preprocessing import LabelEncoder"
   ]
  },
  {
   "cell_type": "code",
   "execution_count": 9,
   "metadata": {},
   "outputs": [
    {
     "data": {
      "text/plain": [
       "array([15, 15, 15, ..., 35, 27, 15])"
      ]
     },
     "execution_count": 9,
     "metadata": {},
     "output_type": "execute_result"
    }
   ],
   "source": [
    "# to convert target column into a interger type\n",
    "le = LabelEncoder()\n",
    "prog_le = le.fit_transform(df['prognosis'])\n",
    "prog_le"
   ]
  },
  {
   "cell_type": "code",
   "execution_count": 10,
   "metadata": {},
   "outputs": [
    {
     "data": {
      "text/plain": [
       "((4962,), (4962,))"
      ]
     },
     "execution_count": 10,
     "metadata": {},
     "output_type": "execute_result"
    }
   ],
   "source": [
    "prog_le.shape,df['prognosis'].shape"
   ]
  },
  {
   "cell_type": "code",
   "execution_count": 11,
   "metadata": {},
   "outputs": [],
   "source": [
    "prog = pd.DataFrame(prog_le,columns=['Prognosis'])\n",
    "prog['Prog_obj'] = df['prognosis'].values"
   ]
  },
  {
   "cell_type": "code",
   "execution_count": 12,
   "metadata": {},
   "outputs": [
    {
     "data": {
      "text/plain": [
       "array(['Fungal infection', 'Allergy', 'GERD', 'Chronic cholestasis',\n",
       "       'Drug Reaction', 'Peptic ulcer diseae', 'AIDS', 'Diabetes ',\n",
       "       'Gastroenteritis', 'Bronchial Asthma', 'Hypertension ', 'Migraine',\n",
       "       'Cervical spondylosis', 'Paralysis (brain hemorrhage)', 'Jaundice',\n",
       "       'Malaria', 'Chicken pox', 'Dengue', 'Typhoid', 'hepatitis A',\n",
       "       'Hepatitis B', 'Hepatitis C', 'Hepatitis D', 'Hepatitis E',\n",
       "       'Alcoholic hepatitis', 'Tuberculosis', 'Common Cold', 'Pneumonia',\n",
       "       'Dimorphic hemmorhoids(piles)', 'Heart attack', 'Varicose veins',\n",
       "       'Hypothyroidism', 'Hyperthyroidism', 'Hypoglycemia',\n",
       "       'Osteoarthristis', 'Arthritis',\n",
       "       '(vertigo) Paroymsal  Positional Vertigo', 'Acne',\n",
       "       'Urinary tract infection', 'Psoriasis', 'Impetigo'], dtype=object)"
      ]
     },
     "execution_count": 12,
     "metadata": {},
     "output_type": "execute_result"
    }
   ],
   "source": [
    "prog['Prog_obj'].unique()"
   ]
  },
  {
   "cell_type": "code",
   "execution_count": 13,
   "metadata": {
    "scrolled": true
   },
   "outputs": [
    {
     "data": {
      "text/plain": [
       "array([15,  4, 16,  9, 14, 33,  1, 12, 17,  6, 23, 30,  7, 32, 28, 29,  8,\n",
       "       11, 37, 40, 19, 20, 21, 22,  3, 36, 10, 34, 13, 18, 39, 26, 24, 25,\n",
       "       31,  5,  0,  2, 38, 35, 27])"
      ]
     },
     "execution_count": 13,
     "metadata": {},
     "output_type": "execute_result"
    }
   ],
   "source": [
    "prog['Prognosis'].unique()"
   ]
  },
  {
   "cell_type": "code",
   "execution_count": 14,
   "metadata": {},
   "outputs": [
    {
     "data": {
      "text/plain": [
       "(41, 41)"
      ]
     },
     "execution_count": 14,
     "metadata": {},
     "output_type": "execute_result"
    }
   ],
   "source": [
    "len(prog['Prog_obj'].unique()),len(prog['Prognosis'].unique())"
   ]
  },
  {
   "cell_type": "code",
   "execution_count": 15,
   "metadata": {},
   "outputs": [],
   "source": [
    "pd.set_option('display.max_columns',None)\n",
    "pd.set_option('display.max_rows',None)"
   ]
  },
  {
   "cell_type": "code",
   "execution_count": 16,
   "metadata": {},
   "outputs": [
    {
     "data": {
      "text/plain": [
       "(array([15,  4, 16,  9, 14, 33,  1, 12, 17,  6, 23, 30,  7, 32, 28, 29,  8,\n",
       "        11, 37, 40, 19, 20, 21, 22,  3, 36, 10, 34, 13, 18, 39, 26, 24, 25,\n",
       "        31,  5,  0,  2, 38, 35, 27]),\n",
       " array(['Fungal infection', 'Allergy', 'GERD', 'Chronic cholestasis',\n",
       "        'Drug Reaction', 'Peptic ulcer diseae', 'AIDS', 'Diabetes ',\n",
       "        'Gastroenteritis', 'Bronchial Asthma', 'Hypertension ', 'Migraine',\n",
       "        'Cervical spondylosis', 'Paralysis (brain hemorrhage)', 'Jaundice',\n",
       "        'Malaria', 'Chicken pox', 'Dengue', 'Typhoid', 'hepatitis A',\n",
       "        'Hepatitis B', 'Hepatitis C', 'Hepatitis D', 'Hepatitis E',\n",
       "        'Alcoholic hepatitis', 'Tuberculosis', 'Common Cold', 'Pneumonia',\n",
       "        'Dimorphic hemmorhoids(piles)', 'Heart attack', 'Varicose veins',\n",
       "        'Hypothyroidism', 'Hyperthyroidism', 'Hypoglycemia',\n",
       "        'Osteoarthristis', 'Arthritis',\n",
       "        '(vertigo) Paroymsal  Positional Vertigo', 'Acne',\n",
       "        'Urinary tract infection', 'Psoriasis', 'Impetigo'], dtype=object))"
      ]
     },
     "execution_count": 16,
     "metadata": {},
     "output_type": "execute_result"
    }
   ],
   "source": [
    "prog['Prognosis'].unique(),prog['Prog_obj'].unique()"
   ]
  },
  {
   "cell_type": "code",
   "execution_count": 17,
   "metadata": {},
   "outputs": [
    {
     "data": {
      "text/html": [
       "<div>\n",
       "<style scoped>\n",
       "    .dataframe tbody tr th:only-of-type {\n",
       "        vertical-align: middle;\n",
       "    }\n",
       "\n",
       "    .dataframe tbody tr th {\n",
       "        vertical-align: top;\n",
       "    }\n",
       "\n",
       "    .dataframe thead th {\n",
       "        text-align: right;\n",
       "    }\n",
       "</style>\n",
       "<table border=\"1\" class=\"dataframe\">\n",
       "  <thead>\n",
       "    <tr style=\"text-align: right;\">\n",
       "      <th></th>\n",
       "      <th>Prognosis</th>\n",
       "      <th>Prog_obj</th>\n",
       "    </tr>\n",
       "  </thead>\n",
       "  <tbody>\n",
       "    <tr>\n",
       "      <th>0</th>\n",
       "      <td>15</td>\n",
       "      <td>Fungal infection</td>\n",
       "    </tr>\n",
       "    <tr>\n",
       "      <th>1</th>\n",
       "      <td>15</td>\n",
       "      <td>Fungal infection</td>\n",
       "    </tr>\n",
       "    <tr>\n",
       "      <th>2</th>\n",
       "      <td>15</td>\n",
       "      <td>Fungal infection</td>\n",
       "    </tr>\n",
       "    <tr>\n",
       "      <th>3</th>\n",
       "      <td>15</td>\n",
       "      <td>Fungal infection</td>\n",
       "    </tr>\n",
       "    <tr>\n",
       "      <th>4</th>\n",
       "      <td>15</td>\n",
       "      <td>Fungal infection</td>\n",
       "    </tr>\n",
       "  </tbody>\n",
       "</table>\n",
       "</div>"
      ],
      "text/plain": [
       "   Prognosis          Prog_obj\n",
       "0         15  Fungal infection\n",
       "1         15  Fungal infection\n",
       "2         15  Fungal infection\n",
       "3         15  Fungal infection\n",
       "4         15  Fungal infection"
      ]
     },
     "execution_count": 17,
     "metadata": {},
     "output_type": "execute_result"
    }
   ],
   "source": [
    "prog.head()"
   ]
  },
  {
   "cell_type": "markdown",
   "metadata": {},
   "source": [
    "### Visualization with maps"
   ]
  },
  {
   "cell_type": "code",
   "execution_count": 18,
   "metadata": {
    "scrolled": true
   },
   "outputs": [
    {
     "data": {
      "text/plain": [
       "0"
      ]
     },
     "execution_count": 18,
     "metadata": {},
     "output_type": "execute_result"
    }
   ],
   "source": [
    "df.isnull().sum().sum()"
   ]
  },
  {
   "cell_type": "code",
   "execution_count": 19,
   "metadata": {},
   "outputs": [
    {
     "name": "stdout",
     "output_type": "stream",
     "text": [
      "<class 'pandas.core.frame.DataFrame'>\n",
      "Int64Index: 4962 entries, 0 to 41\n",
      "Columns: 133 entries, itching to prognosis\n",
      "dtypes: int64(132), object(1)\n",
      "memory usage: 5.1+ MB\n"
     ]
    }
   ],
   "source": [
    "df.info()"
   ]
  },
  {
   "cell_type": "code",
   "execution_count": 20,
   "metadata": {
    "scrolled": true
   },
   "outputs": [
    {
     "data": {
      "text/plain": [
       "(4962, 133)"
      ]
     },
     "execution_count": 20,
     "metadata": {},
     "output_type": "execute_result"
    }
   ],
   "source": [
    "df['prognosis'] = prog['Prognosis']\n",
    "df.shape"
   ]
  },
  {
   "cell_type": "code",
   "execution_count": 21,
   "metadata": {},
   "outputs": [
    {
     "data": {
      "text/plain": [
       "0    15\n",
       "1    15\n",
       "2    15\n",
       "3    15\n",
       "4    15\n",
       "5    15\n",
       "6    15\n",
       "7    15\n",
       "8    15\n",
       "9    15\n",
       "Name: prognosis, dtype: int32"
      ]
     },
     "execution_count": 21,
     "metadata": {},
     "output_type": "execute_result"
    }
   ],
   "source": [
    "df['prognosis'].head(10)"
   ]
  },
  {
   "cell_type": "code",
   "execution_count": 22,
   "metadata": {},
   "outputs": [
    {
     "name": "stderr",
     "output_type": "stream",
     "text": [
      "c:\\Program Files\\Python\\Python38-32\\lib\\site-packages\\seaborn\\_decorators.py:36: FutureWarning: Pass the following variables as keyword args: x, y. From version 0.12, the only valid positional argument will be `data`, and passing other arguments without an explicit keyword will result in an error or misinterpretation.\n",
      "  warnings.warn(\n"
     ]
    },
    {
     "data": {
      "image/png": "[encoded data removed]",
      "text/plain": [
       "<Figure size 1296x432 with 1 Axes>"
      ]
     },
     "metadata": {
      "needs_background": "light"
     },
     "output_type": "display_data"
    }
   ],
   "source": [
    "# correlation of each parameter\n",
    "plt.figure(figsize=(18,6))\n",
    "\n",
    "x = df.drop(columns='prognosis')\n",
    "y = x.corrwith(df['prognosis'])\n",
    "ax = sns.barplot(x.columns,y)\n",
    "ax.tick_params(labelsize=7,labelrotation=90)"
   ]
  },
  {
   "cell_type": "code",
   "execution_count": 23,
   "metadata": {},
   "outputs": [
    {
     "name": "stdout",
     "output_type": "stream",
     "text": [
      "fluid_overload    [0]\n"
     ]
    }
   ],
   "source": [
    "for i in df.columns:\n",
    "    if len(df[i].unique())<2:\n",
    "        print(i ,'  ' ,df[i].unique())"
   ]
  },
  {
   "cell_type": "code",
   "execution_count": 24,
   "metadata": {
    "scrolled": false
   },
   "outputs": [],
   "source": [
    "df = df.drop(columns=['fluid_overload'])"
   ]
  },
  {
   "cell_type": "code",
   "execution_count": 25,
   "metadata": {},
   "outputs": [],
   "source": [
    "\n",
    "def uni(col_name):\n",
    "    apt_1 = []\n",
    "    apt_0 = []\n",
    "    for i in range(df.shape[0]):\n",
    "        if df[col_name].values[i]==1:\n",
    "            apt_1.append(1)\n",
    "        else:\n",
    "            apt_0.append(0)\n",
    "    return print(col_name,' ','0 :',len(apt_0),' 1 :',len(apt_1),'\\n')"
   ]
  },
  {
   "cell_type": "code",
   "execution_count": 26,
   "metadata": {
    "scrolled": true
   },
   "outputs": [
    {
     "name": "stdout",
     "output_type": "stream",
     "text": [
      "itching   0 : 4277  1 : 685 \n",
      "\n",
      "skin_rash   0 : 4168  1 : 794 \n",
      "\n",
      "nodal_skin_eruptions   0 : 4853  1 : 109 \n",
      "\n",
      "continuous_sneezing   0 : 4738  1 : 224 \n",
      "\n",
      "shivering   0 : 4853  1 : 109 \n",
      "\n",
      "chills   0 : 4157  1 : 805 \n",
      "\n",
      "joint_pain   0 : 4272  1 : 690 \n",
      "\n",
      "stomach_pain   0 : 4738  1 : 224 \n",
      "\n",
      "acidity   0 : 4738  1 : 224 \n",
      "\n",
      "ulcers_on_tongue   0 : 4853  1 : 109 \n",
      "\n",
      "muscle_wasting   0 : 4853  1 : 109 \n",
      "\n",
      "vomiting   0 : 3031  1 : 1931 \n",
      "\n",
      "burning_micturition   0 : 4744  1 : 218 \n",
      "\n",
      "spotting_ urination   0 : 4853  1 : 109 \n",
      "\n",
      "fatigue   0 : 3013  1 : 1949 \n",
      "\n",
      "weight_gain   0 : 4847  1 : 115 \n",
      "\n",
      "anxiety   0 : 4847  1 : 115 \n",
      "\n",
      "cold_hands_and_feets   0 : 4847  1 : 115 \n",
      "\n",
      "mood_swings   0 : 4732  1 : 230 \n",
      "\n",
      "weight_loss   0 : 4502  1 : 460 \n",
      "\n",
      "restlessness   0 : 4732  1 : 230 \n",
      "\n",
      "lethargy   0 : 4502  1 : 460 \n",
      "\n",
      "patches_in_throat   0 : 4853  1 : 109 \n",
      "\n",
      "irregular_sugar_level   0 : 4847  1 : 115 \n",
      "\n",
      "cough   0 : 4393  1 : 569 \n",
      "\n",
      "high_fever   0 : 3588  1 : 1374 \n",
      "\n",
      "sunken_eyes   0 : 4853  1 : 109 \n",
      "\n",
      "breathlessness   0 : 4508  1 : 454 \n",
      "\n",
      "sweating   0 : 4278  1 : 684 \n",
      "\n",
      "dehydration   0 : 4853  1 : 109 \n",
      "\n",
      "indigestion   0 : 4738  1 : 224 \n",
      "\n",
      "headache   0 : 3818  1 : 1144 \n",
      "\n",
      "yellowish_skin   0 : 4042  1 : 920 \n",
      "\n",
      "dark_urine   0 : 4387  1 : 575 \n",
      "\n",
      "nausea   0 : 3806  1 : 1156 \n",
      "\n",
      "loss_of_appetite   0 : 3800  1 : 1162 \n",
      "\n",
      "pain_behind_the_eyes   0 : 4841  1 : 121 \n",
      "\n",
      "back_pain   0 : 4732  1 : 230 \n",
      "\n",
      "constipation   0 : 4732  1 : 230 \n",
      "\n",
      "abdominal_pain   0 : 3921  1 : 1041 \n",
      "\n",
      "diarrhoea   0 : 4393  1 : 569 \n",
      "\n",
      "mild_fever   0 : 4605  1 : 357 \n",
      "\n",
      "yellow_urine   0 : 4847  1 : 115 \n",
      "\n",
      "yellowing_of_eyes   0 : 4139  1 : 823 \n",
      "\n",
      "acute_liver_failure   0 : 4847  1 : 115 \n",
      "\n",
      "swelling_of_stomach   0 : 4847  1 : 115 \n",
      "\n",
      "swelled_lymph_nodes   0 : 4611  1 : 351 \n",
      "\n",
      "malaise   0 : 4254  1 : 708 \n",
      "\n",
      "blurred_and_distorted_vision   0 : 4617  1 : 345 \n",
      "\n",
      "phlegm   0 : 4605  1 : 357 \n",
      "\n",
      "throat_irritation   0 : 4841  1 : 121 \n",
      "\n",
      "redness_of_eyes   0 : 4841  1 : 121 \n",
      "\n",
      "sinus_pressure   0 : 4841  1 : 121 \n",
      "\n",
      "runny_nose   0 : 4841  1 : 121 \n",
      "\n",
      "congestion   0 : 4841  1 : 121 \n",
      "\n",
      "chest_pain   0 : 4260  1 : 702 \n",
      "\n",
      "weakness_in_limbs   0 : 4853  1 : 109 \n",
      "\n",
      "fast_heart_rate   0 : 4726  1 : 236 \n",
      "\n",
      "pain_during_bowel_movements   0 : 4847  1 : 115 \n",
      "\n",
      "pain_in_anal_region   0 : 4847  1 : 115 \n",
      "\n",
      "bloody_stool   0 : 4847  1 : 115 \n",
      "\n",
      "irritation_in_anus   0 : 4847  1 : 115 \n",
      "\n",
      "neck_pain   0 : 4732  1 : 230 \n",
      "\n",
      "dizziness   0 : 4623  1 : 339 \n",
      "\n",
      "cramps   0 : 4847  1 : 115 \n",
      "\n",
      "bruising   0 : 4847  1 : 115 \n",
      "\n",
      "obesity   0 : 4732  1 : 230 \n",
      "\n",
      "swollen_legs   0 : 4847  1 : 115 \n",
      "\n",
      "swollen_blood_vessels   0 : 4853  1 : 109 \n",
      "\n",
      "puffy_face_and_eyes   0 : 4847  1 : 115 \n",
      "\n",
      "enlarged_thyroid   0 : 4841  1 : 121 \n",
      "\n",
      "brittle_nails   0 : 4841  1 : 121 \n",
      "\n",
      "swollen_extremeties   0 : 4841  1 : 121 \n",
      "\n",
      "excessive_hunger   0 : 4496  1 : 466 \n",
      "\n",
      "extra_marital_contacts   0 : 4853  1 : 109 \n",
      "\n",
      "drying_and_tingling_lips   0 : 4847  1 : 115 \n",
      "\n",
      "slurred_speech   0 : 4841  1 : 121 \n",
      "\n",
      "knee_pain   0 : 4847  1 : 115 \n",
      "\n",
      "hip_joint_pain   0 : 4847  1 : 115 \n",
      "\n",
      "muscle_weakness   0 : 4726  1 : 236 \n",
      "\n",
      "stiff_neck   0 : 4732  1 : 230 \n",
      "\n",
      "swelling_joints   0 : 4732  1 : 230 \n",
      "\n",
      "movement_stiffness   0 : 4847  1 : 115 \n",
      "\n",
      "spinning_movements   0 : 4853  1 : 109 \n",
      "\n",
      "loss_of_balance   0 : 4617  1 : 345 \n",
      "\n",
      "unsteadiness   0 : 4847  1 : 115 \n",
      "\n",
      "weakness_of_one_body_side   0 : 4853  1 : 109 \n",
      "\n",
      "loss_of_smell   0 : 4841  1 : 121 \n",
      "\n",
      "bladder_discomfort   0 : 4847  1 : 115 \n",
      "\n",
      "foul_smell_of urine   0 : 4859  1 : 103 \n",
      "\n",
      "continuous_feel_of_urine   0 : 4847  1 : 115 \n",
      "\n",
      "passage_of_gases   0 : 4847  1 : 115 \n",
      "\n",
      "internal_itching   0 : 4847  1 : 115 \n",
      "\n",
      "toxic_look_(typhos)   0 : 4847  1 : 115 \n",
      "\n",
      "depression   0 : 4726  1 : 236 \n",
      "\n",
      "irritability   0 : 4484  1 : 478 \n",
      "\n",
      "muscle_pain   0 : 4484  1 : 478 \n",
      "\n",
      "altered_sensorium   0 : 4847  1 : 115 \n",
      "\n",
      "red_spots_over_body   0 : 4725  1 : 237 \n",
      "\n",
      "belly_pain   0 : 4847  1 : 115 \n",
      "\n",
      "abnormal_menstruation   0 : 4720  1 : 242 \n",
      "\n",
      "dischromic _patches   0 : 4853  1 : 109 \n",
      "\n",
      "watering_from_eyes   0 : 4853  1 : 109 \n",
      "\n",
      "increased_appetite   0 : 4841  1 : 121 \n",
      "\n",
      "polyuria   0 : 4841  1 : 121 \n",
      "\n",
      "family_history   0 : 4731  1 : 231 \n",
      "\n",
      "mucoid_sputum   0 : 4847  1 : 115 \n",
      "\n",
      "rusty_sputum   0 : 4841  1 : 121 \n",
      "\n",
      "lack_of_concentration   0 : 4847  1 : 115 \n",
      "\n",
      "visual_disturbances   0 : 4847  1 : 115 \n",
      "\n",
      "receiving_blood_transfusion   0 : 4841  1 : 121 \n",
      "\n",
      "receiving_unsterile_injections   0 : 4841  1 : 121 \n",
      "\n",
      "coma   0 : 4841  1 : 121 \n",
      "\n",
      "stomach_bleeding   0 : 4841  1 : 121 \n",
      "\n",
      "distention_of_abdomen   0 : 4847  1 : 115 \n",
      "\n",
      "history_of_alcohol_consumption   0 : 4847  1 : 115 \n",
      "\n",
      "fluid_overload.1   0 : 4847  1 : 115 \n",
      "\n",
      "blood_in_sputum   0 : 4841  1 : 121 \n",
      "\n",
      "prominent_veins_on_calf   0 : 4847  1 : 115 \n",
      "\n",
      "palpitations   0 : 4841  1 : 121 \n",
      "\n",
      "painful_walking   0 : 4732  1 : 230 \n",
      "\n",
      "pus_filled_pimples   0 : 4853  1 : 109 \n",
      "\n",
      "blackheads   0 : 4853  1 : 109 \n",
      "\n",
      "scurring   0 : 4853  1 : 109 \n",
      "\n",
      "skin_peeling   0 : 4846  1 : 116 \n",
      "\n",
      "silver_like_dusting   0 : 4847  1 : 115 \n",
      "\n",
      "small_dents_in_nails   0 : 4847  1 : 115 \n",
      "\n",
      "inflammatory_nails   0 : 4847  1 : 115 \n",
      "\n",
      "blister   0 : 4847  1 : 115 \n",
      "\n",
      "red_sore_around_nose   0 : 4846  1 : 116 \n",
      "\n",
      "yellow_crust_ooze   0 : 4847  1 : 115 \n",
      "\n",
      "prognosis   0 : 4842  1 : 120 \n",
      "\n"
     ]
    }
   ],
   "source": [
    "for i in df.columns:\n",
    "    uni(i)"
   ]
  },
  {
   "cell_type": "code",
   "execution_count": 27,
   "metadata": {},
   "outputs": [
    {
     "data": {
      "text/plain": [
       "4962"
      ]
     },
     "execution_count": 27,
     "metadata": {},
     "output_type": "execute_result"
    }
   ],
   "source": [
    "df.shape[0]"
   ]
  },
  {
   "cell_type": "code",
   "execution_count": 28,
   "metadata": {},
   "outputs": [],
   "source": [
    "# sns.heatmap(df.corr(),annot=True,cmap='coolwarm',linewidth=1)"
   ]
  },
  {
   "cell_type": "code",
   "execution_count": 29,
   "metadata": {},
   "outputs": [
    {
     "data": {
      "text/plain": [
       "(Index(['itching', 'skin_rash', 'nodal_skin_eruptions', 'continuous_sneezing',\n",
       "        'shivering', 'stomach_pain', 'acidity', 'ulcers_on_tongue',\n",
       "        'muscle_wasting', 'spotting_ urination', 'weight_gain', 'anxiety',\n",
       "        'cold_hands_and_feets', 'mood_swings', 'restlessness', 'lethargy',\n",
       "        'patches_in_throat', 'irregular_sugar_level', 'cough', 'high_fever',\n",
       "        'sunken_eyes', 'breathlessness', 'dehydration', 'headache',\n",
       "        'yellowish_skin', 'nausea', 'loss_of_appetite', 'pain_behind_the_eyes',\n",
       "        'back_pain', 'constipation', 'yellow_urine', 'acute_liver_failure',\n",
       "        'swelling_of_stomach', 'swelled_lymph_nodes', 'malaise',\n",
       "        'blurred_and_distorted_vision', 'throat_irritation', 'redness_of_eyes',\n",
       "        'sinus_pressure', 'runny_nose', 'congestion', 'weakness_in_limbs',\n",
       "        'pain_during_bowel_movements', 'pain_in_anal_region', 'bloody_stool',\n",
       "        'irritation_in_anus', 'neck_pain', 'dizziness', 'puffy_face_and_eyes',\n",
       "        'enlarged_thyroid', 'brittle_nails', 'swollen_extremeties',\n",
       "        'excessive_hunger', 'extra_marital_contacts',\n",
       "        'drying_and_tingling_lips', 'slurred_speech', 'muscle_weakness',\n",
       "        'stiff_neck', 'swelling_joints', 'movement_stiffness',\n",
       "        'spinning_movements', 'loss_of_balance', 'unsteadiness',\n",
       "        'loss_of_smell', 'muscle_pain', 'red_spots_over_body',\n",
       "        'abnormal_menstruation', 'dischromic _patches', 'watering_from_eyes',\n",
       "        'increased_appetite', 'polyuria', 'family_history', 'mucoid_sputum',\n",
       "        'lack_of_concentration', 'receiving_blood_transfusion',\n",
       "        'receiving_unsterile_injections', 'coma', 'stomach_bleeding',\n",
       "        'distention_of_abdomen', 'history_of_alcohol_consumption',\n",
       "        'fluid_overload.1', 'palpitations', 'painful_walking',\n",
       "        'pus_filled_pimples', 'blackheads', 'scurring', 'blister',\n",
       "        'red_sore_around_nose', 'yellow_crust_ooze'],\n",
       "       dtype='object'),\n",
       " 89)"
      ]
     },
     "execution_count": 29,
     "metadata": {},
     "output_type": "execute_result"
    }
   ],
   "source": [
    "high_corr = df.corr()\n",
    "high_corr_fe = high_corr.index[abs(high_corr['prognosis']<0.1)]\n",
    "high_corr_fe,len(high_corr_fe)"
   ]
  },
  {
   "cell_type": "code",
   "execution_count": 30,
   "metadata": {},
   "outputs": [],
   "source": [
    "# df = df.drop(columns=high_corr_fe)"
   ]
  },
  {
   "cell_type": "code",
   "execution_count": 31,
   "metadata": {},
   "outputs": [],
   "source": [
    "# df['itching']"
   ]
  },
  {
   "cell_type": "code",
   "execution_count": 32,
   "metadata": {},
   "outputs": [
    {
     "data": {
      "text/plain": [
       "['itching',\n",
       " 'skin_rash',\n",
       " 'nodal_skin_eruptions',\n",
       " 'continuous_sneezing',\n",
       " 'shivering',\n",
       " 'chills',\n",
       " 'joint_pain',\n",
       " 'stomach_pain',\n",
       " 'acidity',\n",
       " 'ulcers_on_tongue',\n",
       " 'muscle_wasting',\n",
       " 'vomiting',\n",
       " 'burning_micturition',\n",
       " 'spotting_ urination',\n",
       " 'fatigue',\n",
       " 'weight_gain',\n",
       " 'anxiety',\n",
       " 'cold_hands_and_feets',\n",
       " 'mood_swings',\n",
       " 'weight_loss',\n",
       " 'restlessness',\n",
       " 'lethargy',\n",
       " 'patches_in_throat',\n",
       " 'irregular_sugar_level',\n",
       " 'cough',\n",
       " 'high_fever',\n",
       " 'sunken_eyes',\n",
       " 'breathlessness',\n",
       " 'sweating',\n",
       " 'dehydration',\n",
       " 'indigestion',\n",
       " 'headache',\n",
       " 'yellowish_skin',\n",
       " 'dark_urine',\n",
       " 'nausea',\n",
       " 'loss_of_appetite',\n",
       " 'pain_behind_the_eyes',\n",
       " 'back_pain',\n",
       " 'constipation',\n",
       " 'abdominal_pain',\n",
       " 'diarrhoea',\n",
       " 'mild_fever',\n",
       " 'yellow_urine',\n",
       " 'yellowing_of_eyes',\n",
       " 'acute_liver_failure',\n",
       " 'swelling_of_stomach',\n",
       " 'swelled_lymph_nodes',\n",
       " 'malaise',\n",
       " 'blurred_and_distorted_vision',\n",
       " 'phlegm',\n",
       " 'throat_irritation',\n",
       " 'redness_of_eyes',\n",
       " 'sinus_pressure',\n",
       " 'runny_nose',\n",
       " 'congestion',\n",
       " 'chest_pain',\n",
       " 'weakness_in_limbs',\n",
       " 'fast_heart_rate',\n",
       " 'pain_during_bowel_movements',\n",
       " 'pain_in_anal_region',\n",
       " 'bloody_stool',\n",
       " 'irritation_in_anus',\n",
       " 'neck_pain',\n",
       " 'dizziness',\n",
       " 'cramps',\n",
       " 'bruising',\n",
       " 'obesity',\n",
       " 'swollen_legs',\n",
       " 'swollen_blood_vessels',\n",
       " 'puffy_face_and_eyes',\n",
       " 'enlarged_thyroid',\n",
       " 'brittle_nails',\n",
       " 'swollen_extremeties',\n",
       " 'excessive_hunger',\n",
       " 'extra_marital_contacts',\n",
       " 'drying_and_tingling_lips',\n",
       " 'slurred_speech',\n",
       " 'knee_pain',\n",
       " 'hip_joint_pain',\n",
       " 'muscle_weakness',\n",
       " 'stiff_neck',\n",
       " 'swelling_joints',\n",
       " 'movement_stiffness',\n",
       " 'spinning_movements',\n",
       " 'loss_of_balance',\n",
       " 'unsteadiness',\n",
       " 'weakness_of_one_body_side',\n",
       " 'loss_of_smell',\n",
       " 'bladder_discomfort',\n",
       " 'foul_smell_of urine',\n",
       " 'continuous_feel_of_urine',\n",
       " 'passage_of_gases',\n",
       " 'internal_itching',\n",
       " 'toxic_look_(typhos)',\n",
       " 'depression',\n",
       " 'irritability',\n",
       " 'muscle_pain',\n",
       " 'altered_sensorium',\n",
       " 'red_spots_over_body',\n",
       " 'belly_pain',\n",
       " 'abnormal_menstruation',\n",
       " 'dischromic _patches',\n",
       " 'watering_from_eyes',\n",
       " 'increased_appetite',\n",
       " 'polyuria',\n",
       " 'family_history',\n",
       " 'mucoid_sputum',\n",
       " 'rusty_sputum',\n",
       " 'lack_of_concentration',\n",
       " 'visual_disturbances',\n",
       " 'receiving_blood_transfusion',\n",
       " 'receiving_unsterile_injections',\n",
       " 'coma',\n",
       " 'stomach_bleeding',\n",
       " 'distention_of_abdomen',\n",
       " 'history_of_alcohol_consumption',\n",
       " 'fluid_overload.1',\n",
       " 'blood_in_sputum',\n",
       " 'prominent_veins_on_calf',\n",
       " 'palpitations',\n",
       " 'painful_walking',\n",
       " 'pus_filled_pimples',\n",
       " 'blackheads',\n",
       " 'scurring',\n",
       " 'skin_peeling',\n",
       " 'silver_like_dusting',\n",
       " 'small_dents_in_nails',\n",
       " 'inflammatory_nails',\n",
       " 'blister',\n",
       " 'red_sore_around_nose',\n",
       " 'yellow_crust_ooze',\n",
       " 'prognosis']"
      ]
     },
     "execution_count": 32,
     "metadata": {},
     "output_type": "execute_result"
    }
   ],
   "source": [
    "list(df.columns)"
   ]
  },
  {
   "cell_type": "markdown",
   "metadata": {},
   "source": [
    "### Model Fitting"
   ]
  },
  {
   "cell_type": "code",
   "execution_count": 33,
   "metadata": {},
   "outputs": [],
   "source": [
    "# spliting\n",
    "from sklearn.model_selection import train_test_split"
   ]
  },
  {
   "cell_type": "code",
   "execution_count": 34,
   "metadata": {},
   "outputs": [],
   "source": [
    "xtrain = df.drop(columns=['prognosis'])\n",
    "ytrain = df['prognosis']"
   ]
  },
  {
   "cell_type": "code",
   "execution_count": 35,
   "metadata": {},
   "outputs": [
    {
     "data": {
      "text/plain": [
       "['itching',\n",
       " 'skin_rash',\n",
       " 'nodal_skin_eruptions',\n",
       " 'continuous_sneezing',\n",
       " 'shivering',\n",
       " 'chills',\n",
       " 'joint_pain',\n",
       " 'stomach_pain',\n",
       " 'acidity',\n",
       " 'ulcers_on_tongue',\n",
       " 'muscle_wasting',\n",
       " 'vomiting',\n",
       " 'burning_micturition',\n",
       " 'spotting_ urination',\n",
       " 'fatigue',\n",
       " 'weight_gain',\n",
       " 'anxiety',\n",
       " 'cold_hands_and_feets',\n",
       " 'mood_swings',\n",
       " 'weight_loss',\n",
       " 'restlessness',\n",
       " 'lethargy',\n",
       " 'patches_in_throat',\n",
       " 'irregular_sugar_level',\n",
       " 'cough',\n",
       " 'high_fever',\n",
       " 'sunken_eyes',\n",
       " 'breathlessness',\n",
       " 'sweating',\n",
       " 'dehydration',\n",
       " 'indigestion',\n",
       " 'headache',\n",
       " 'yellowish_skin',\n",
       " 'dark_urine',\n",
       " 'nausea',\n",
       " 'loss_of_appetite',\n",
       " 'pain_behind_the_eyes',\n",
       " 'back_pain',\n",
       " 'constipation',\n",
       " 'abdominal_pain',\n",
       " 'diarrhoea',\n",
       " 'mild_fever',\n",
       " 'yellow_urine',\n",
       " 'yellowing_of_eyes',\n",
       " 'acute_liver_failure',\n",
       " 'swelling_of_stomach',\n",
       " 'swelled_lymph_nodes',\n",
       " 'malaise',\n",
       " 'blurred_and_distorted_vision',\n",
       " 'phlegm',\n",
       " 'throat_irritation',\n",
       " 'redness_of_eyes',\n",
       " 'sinus_pressure',\n",
       " 'runny_nose',\n",
       " 'congestion',\n",
       " 'chest_pain',\n",
       " 'weakness_in_limbs',\n",
       " 'fast_heart_rate',\n",
       " 'pain_during_bowel_movements',\n",
       " 'pain_in_anal_region',\n",
       " 'bloody_stool',\n",
       " 'irritation_in_anus',\n",
       " 'neck_pain',\n",
       " 'dizziness',\n",
       " 'cramps',\n",
       " 'bruising',\n",
       " 'obesity',\n",
       " 'swollen_legs',\n",
       " 'swollen_blood_vessels',\n",
       " 'puffy_face_and_eyes',\n",
       " 'enlarged_thyroid',\n",
       " 'brittle_nails',\n",
       " 'swollen_extremeties',\n",
       " 'excessive_hunger',\n",
       " 'extra_marital_contacts',\n",
       " 'drying_and_tingling_lips',\n",
       " 'slurred_speech',\n",
       " 'knee_pain',\n",
       " 'hip_joint_pain',\n",
       " 'muscle_weakness',\n",
       " 'stiff_neck',\n",
       " 'swelling_joints',\n",
       " 'movement_stiffness',\n",
       " 'spinning_movements',\n",
       " 'loss_of_balance',\n",
       " 'unsteadiness',\n",
       " 'weakness_of_one_body_side',\n",
       " 'loss_of_smell',\n",
       " 'bladder_discomfort',\n",
       " 'foul_smell_of urine',\n",
       " 'continuous_feel_of_urine',\n",
       " 'passage_of_gases',\n",
       " 'internal_itching',\n",
       " 'toxic_look_(typhos)',\n",
       " 'depression',\n",
       " 'irritability',\n",
       " 'muscle_pain',\n",
       " 'altered_sensorium',\n",
       " 'red_spots_over_body',\n",
       " 'belly_pain',\n",
       " 'abnormal_menstruation',\n",
       " 'dischromic _patches',\n",
       " 'watering_from_eyes',\n",
       " 'increased_appetite',\n",
       " 'polyuria',\n",
       " 'family_history',\n",
       " 'mucoid_sputum',\n",
       " 'rusty_sputum',\n",
       " 'lack_of_concentration',\n",
       " 'visual_disturbances',\n",
       " 'receiving_blood_transfusion',\n",
       " 'receiving_unsterile_injections',\n",
       " 'coma',\n",
       " 'stomach_bleeding',\n",
       " 'distention_of_abdomen',\n",
       " 'history_of_alcohol_consumption',\n",
       " 'fluid_overload.1',\n",
       " 'blood_in_sputum',\n",
       " 'prominent_veins_on_calf',\n",
       " 'palpitations',\n",
       " 'painful_walking',\n",
       " 'pus_filled_pimples',\n",
       " 'blackheads',\n",
       " 'scurring',\n",
       " 'skin_peeling',\n",
       " 'silver_like_dusting',\n",
       " 'small_dents_in_nails',\n",
       " 'inflammatory_nails',\n",
       " 'blister',\n",
       " 'red_sore_around_nose',\n",
       " 'yellow_crust_ooze',\n",
       " 'prognosis']"
      ]
     },
     "execution_count": 35,
     "metadata": {},
     "output_type": "execute_result"
    }
   ],
   "source": [
    "lst = []\n",
    "for i in df.columns:\n",
    "    if i not in lst:\n",
    "        lst.append(i)\n",
    "\n",
    "lst"
   ]
  },
  {
   "cell_type": "code",
   "execution_count": 36,
   "metadata": {},
   "outputs": [
    {
     "data": {
      "text/plain": [
       "((4068, 131), (4068,), (894, 131), (894,))"
      ]
     },
     "execution_count": 36,
     "metadata": {},
     "output_type": "execute_result"
    }
   ],
   "source": [
    "x_train,x_test,y_train,y_test = train_test_split(xtrain,ytrain,test_size=0.18,random_state=0)\n",
    "x_train.shape,y_train.shape,x_test.shape,y_test.shape"
   ]
  },
  {
   "cell_type": "code",
   "execution_count": 39,
   "metadata": {},
   "outputs": [],
   "source": [
    "# x_test_ = x_test.to_csv('x_test_.csv')\n",
    "# y_test_ = y_test.to_csv('y_test_.csv')"
   ]
  },
  {
   "cell_type": "code",
   "execution_count": 33,
   "metadata": {},
   "outputs": [
    {
     "data": {
      "text/plain": [
       "array([ 0,  1,  2,  3,  4,  5,  6,  7,  8,  9, 10, 11, 12, 13, 14, 15, 16,\n",
       "       17, 18, 19, 20, 21, 22, 23, 24, 25, 26, 27, 28, 29, 30, 31, 32, 33,\n",
       "       34, 35, 36, 37, 38, 39, 40])"
      ]
     },
     "execution_count": 33,
     "metadata": {},
     "output_type": "execute_result"
    }
   ],
   "source": [
    "short = np.sort(y_test.unique())\n",
    "short"
   ]
  },
  {
   "cell_type": "markdown",
   "metadata": {},
   "source": [
    "### Standard Scaler"
   ]
  },
  {
   "cell_type": "code",
   "execution_count": 34,
   "metadata": {},
   "outputs": [],
   "source": [
    "from sklearn.preprocessing import StandardScaler"
   ]
  },
  {
   "cell_type": "code",
   "execution_count": 35,
   "metadata": {},
   "outputs": [],
   "source": [
    "sc = StandardScaler()\n",
    "sc.fit(x_train)\n",
    "\n",
    "x_train_sc = sc.transform(x_train)\n",
    "x_test_sc  = sc.transform(x_test)"
   ]
  },
  {
   "cell_type": "markdown",
   "metadata": {},
   "source": [
    "## Model Building Using Machine Learning Techniques:"
   ]
  },
  {
   "cell_type": "markdown",
   "metadata": {},
   "source": [
    "### Logistic Regression"
   ]
  },
  {
   "cell_type": "code",
   "execution_count": 36,
   "metadata": {},
   "outputs": [],
   "source": [
    "from sklearn.linear_model import LogisticRegression"
   ]
  },
  {
   "cell_type": "code",
   "execution_count": 37,
   "metadata": {},
   "outputs": [
    {
     "name": "stderr",
     "output_type": "stream",
     "text": [
      "c:\\program files\\python38-32\\lib\\site-packages\\sklearn\\linear_model\\_logistic.py:762: ConvergenceWarning: lbfgs failed to converge (status=1):\n",
      "STOP: TOTAL NO. of ITERATIONS REACHED LIMIT.\n",
      "\n",
      "Increase the number of iterations (max_iter) or scale the data as shown in:\n",
      "    https://scikit-learn.org/stable/modules/preprocessing.html\n",
      "Please also refer to the documentation for alternative solver options:\n",
      "    https://scikit-learn.org/stable/modules/linear_model.html#logistic-regression\n",
      "  n_iter_i = _check_optimize_result(\n"
     ]
    }
   ],
   "source": [
    "lr = LogisticRegression()\n",
    "lr.fit(x_train_sc,y_train)\n",
    "y_pred = lr.predict(x_test_sc)"
   ]
  },
  {
   "cell_type": "code",
   "execution_count": 38,
   "metadata": {},
   "outputs": [],
   "source": [
    "from sklearn.metrics import accuracy_score, classification_report,mean_squared_error"
   ]
  },
  {
   "cell_type": "code",
   "execution_count": 39,
   "metadata": {},
   "outputs": [
    {
     "data": {
      "text/plain": [
       "0.9932885906040269"
      ]
     },
     "execution_count": 39,
     "metadata": {},
     "output_type": "execute_result"
    }
   ],
   "source": [
    "acc = accuracy_score(y_test,y_pred)\n",
    "acc"
   ]
  },
  {
   "cell_type": "code",
   "execution_count": 40,
   "metadata": {},
   "outputs": [
    {
     "data": {
      "text/plain": [
       "1.487695749440716"
      ]
     },
     "execution_count": 40,
     "metadata": {},
     "output_type": "execute_result"
    }
   ],
   "source": [
    "mean_squared_error(y_test,y_pred)"
   ]
  },
  {
   "cell_type": "markdown",
   "metadata": {},
   "source": [
    "### Decision Tree"
   ]
  },
  {
   "cell_type": "code",
   "execution_count": 41,
   "metadata": {},
   "outputs": [],
   "source": [
    "from sklearn.tree import DecisionTreeClassifier"
   ]
  },
  {
   "cell_type": "code",
   "execution_count": 42,
   "metadata": {},
   "outputs": [],
   "source": [
    "dtc = DecisionTreeClassifier()\n",
    "dtc.fit(x_train_sc,y_train)\n",
    "\n",
    "y_pred_dtc = dtc.predict(x_test_sc)"
   ]
  },
  {
   "cell_type": "code",
   "execution_count": 43,
   "metadata": {},
   "outputs": [
    {
     "data": {
      "text/plain": [
       "0.9932885906040269"
      ]
     },
     "execution_count": 43,
     "metadata": {},
     "output_type": "execute_result"
    }
   ],
   "source": [
    "accuracy_score(y_test,y_pred_dtc)"
   ]
  },
  {
   "cell_type": "code",
   "execution_count": 44,
   "metadata": {},
   "outputs": [
    {
     "data": {
      "text/plain": [
       "1.487695749440716"
      ]
     },
     "execution_count": 44,
     "metadata": {},
     "output_type": "execute_result"
    }
   ],
   "source": [
    "mean_squared_error(y_test,y_pred_dtc)"
   ]
  },
  {
   "cell_type": "markdown",
   "metadata": {},
   "source": [
    "### Random Forest Classifier"
   ]
  },
  {
   "cell_type": "code",
   "execution_count": 45,
   "metadata": {},
   "outputs": [],
   "source": [
    "from sklearn.ensemble import RandomForestClassifier"
   ]
  },
  {
   "cell_type": "code",
   "execution_count": 46,
   "metadata": {},
   "outputs": [],
   "source": [
    "rfc = RandomForestClassifier()\n",
    "rfc.fit(x_train,y_train)\n",
    "y_pred_rfc = rfc.predict(x_test)"
   ]
  },
  {
   "cell_type": "code",
   "execution_count": 47,
   "metadata": {},
   "outputs": [
    {
     "data": {
      "text/plain": [
       "0.9932885906040269"
      ]
     },
     "execution_count": 47,
     "metadata": {},
     "output_type": "execute_result"
    }
   ],
   "source": [
    "accuracy_score(y_test,y_pred_rfc)"
   ]
  },
  {
   "cell_type": "markdown",
   "metadata": {},
   "source": [
    "### KNeighbors Classifier"
   ]
  },
  {
   "cell_type": "code",
   "execution_count": 48,
   "metadata": {},
   "outputs": [],
   "source": [
    "from sklearn.neighbors import KNeighborsClassifier"
   ]
  },
  {
   "cell_type": "code",
   "execution_count": 49,
   "metadata": {},
   "outputs": [
    {
     "data": {
      "text/plain": [
       "0.9932885906040269"
      ]
     },
     "execution_count": 49,
     "metadata": {},
     "output_type": "execute_result"
    }
   ],
   "source": [
    "knn = KNeighborsClassifier()\n",
    "knn.fit(x_train,y_train)\n",
    "y_pred_knn = knn.predict(x_test)\n",
    "accuracy_score(y_test,y_pred_knn)"
   ]
  },
  {
   "cell_type": "markdown",
   "metadata": {},
   "source": [
    "### SGDclassifier"
   ]
  },
  {
   "cell_type": "code",
   "execution_count": 50,
   "metadata": {},
   "outputs": [],
   "source": [
    "from sklearn.linear_model import SGDClassifier"
   ]
  },
  {
   "cell_type": "code",
   "execution_count": 51,
   "metadata": {},
   "outputs": [
    {
     "data": {
      "text/plain": [
       "0.9932885906040269"
      ]
     },
     "execution_count": 51,
     "metadata": {},
     "output_type": "execute_result"
    }
   ],
   "source": [
    "sgd = SGDClassifier()\n",
    "sgd.fit(x_train,y_train)\n",
    "y_pred_sgd = sgd.predict(x_test)\n",
    "accuracy_score(y_test,y_pred_sgd)"
   ]
  },
  {
   "cell_type": "code",
   "execution_count": 52,
   "metadata": {},
   "outputs": [],
   "source": [
    "# cross val score\n",
    "from sklearn.model_selection import cross_val_score"
   ]
  },
  {
   "cell_type": "markdown",
   "metadata": {},
   "source": [
    "### Report And Analysis"
   ]
  },
  {
   "cell_type": "code",
   "execution_count": 53,
   "metadata": {},
   "outputs": [
    {
     "data": {
      "text/plain": [
       "array([1.        , 1.        , 1.        , 1.        , 1.        ,\n",
       "       1.        , 1.        , 1.        , 1.        , 1.        ,\n",
       "       1.        , 1.        , 1.        , 1.        , 1.        ,\n",
       "       1.        , 1.        , 1.        , 1.        , 1.        ,\n",
       "       1.        , 1.        , 1.        , 1.        , 1.        ,\n",
       "       1.        , 1.        , 1.        , 1.        , 1.        ,\n",
       "       1.        , 1.        , 1.        , 1.        , 1.        ,\n",
       "       1.        , 1.        , 1.        , 1.        , 1.        ,\n",
       "       1.        , 1.        , 1.        , 1.        , 1.        ,\n",
       "       0.96969697, 0.93939394, 0.8989899 , 0.8989899 , 0.87878788])"
      ]
     },
     "execution_count": 53,
     "metadata": {},
     "output_type": "execute_result"
    }
   ],
   "source": [
    "cv=cross_val_score(sgd,df.drop(columns=['prognosis']),df['prognosis'],cv=50)\n",
    "cv"
   ]
  },
  {
   "cell_type": "code",
   "execution_count": 54,
   "metadata": {},
   "outputs": [
    {
     "data": {
      "text/plain": [
       "0.9917171717171714"
      ]
     },
     "execution_count": 54,
     "metadata": {},
     "output_type": "execute_result"
    }
   ],
   "source": [
    "cv.mean()"
   ]
  },
  {
   "cell_type": "code",
   "execution_count": 55,
   "metadata": {},
   "outputs": [
    {
     "data": {
      "text/plain": [
       "array([[15,  0,  0, ...,  0,  0,  0],\n",
       "       [ 0, 25,  0, ...,  0,  0,  0],\n",
       "       [ 0,  0, 23, ...,  0,  0,  0],\n",
       "       ...,\n",
       "       [ 0,  0,  0, ..., 16,  0,  0],\n",
       "       [ 0,  0,  0, ...,  0, 14,  0],\n",
       "       [ 0,  0,  0, ...,  0,  0, 25]], dtype=int64)"
      ]
     },
     "execution_count": 55,
     "metadata": {},
     "output_type": "execute_result"
    }
   ],
   "source": [
    "from sklearn.metrics import confusion_matrix\n",
    "confusion_matrix(y_test,y_pred_sgd)"
   ]
  },
  {
   "cell_type": "code",
   "execution_count": 56,
   "metadata": {
    "scrolled": true
   },
   "outputs": [
    {
     "name": "stdout",
     "output_type": "stream",
     "text": [
      "              precision    recall  f1-score   support\n",
      "\n",
      "           0       1.00      1.00      1.00        15\n",
      "           1       1.00      1.00      1.00        25\n",
      "           2       1.00      1.00      1.00        23\n",
      "           3       0.96      1.00      0.98        22\n",
      "           4       1.00      0.96      0.98        26\n",
      "           5       0.96      1.00      0.98        25\n",
      "           6       1.00      1.00      1.00        19\n",
      "           7       1.00      1.00      1.00        24\n",
      "           8       1.00      1.00      1.00        19\n",
      "           9       1.00      0.96      0.98        23\n",
      "          10       1.00      1.00      1.00        22\n",
      "          11       1.00      1.00      1.00        26\n",
      "          12       1.00      1.00      1.00        24\n",
      "          13       1.00      1.00      1.00        15\n",
      "          14       1.00      1.00      1.00        27\n",
      "          15       1.00      1.00      1.00        16\n",
      "          16       1.00      0.84      0.91        25\n",
      "          17       1.00      1.00      1.00        17\n",
      "          18       0.97      1.00      0.98        28\n",
      "          19       1.00      1.00      1.00        17\n",
      "          20       0.96      1.00      0.98        22\n",
      "          21       1.00      1.00      1.00        24\n",
      "          22       0.95      1.00      0.98        20\n",
      "          23       1.00      1.00      1.00        16\n",
      "          24       1.00      1.00      1.00        20\n",
      "          25       1.00      1.00      1.00        22\n",
      "          26       1.00      1.00      1.00        23\n",
      "          27       1.00      1.00      1.00        20\n",
      "          28       1.00      1.00      1.00        23\n",
      "          29       1.00      1.00      1.00        29\n",
      "          30       1.00      1.00      1.00        25\n",
      "          31       1.00      1.00      1.00        15\n",
      "          32       1.00      1.00      1.00        30\n",
      "          33       1.00      1.00      1.00        24\n",
      "          34       1.00      1.00      1.00        20\n",
      "          35       1.00      1.00      1.00        19\n",
      "          36       1.00      1.00      1.00        26\n",
      "          37       0.96      1.00      0.98        23\n",
      "          38       1.00      1.00      1.00        16\n",
      "          39       1.00      1.00      1.00        14\n",
      "          40       1.00      1.00      1.00        25\n",
      "\n",
      "    accuracy                           0.99       894\n",
      "   macro avg       0.99      0.99      0.99       894\n",
      "weighted avg       0.99      0.99      0.99       894\n",
      "\n"
     ]
    }
   ],
   "source": [
    "print(classification_report(y_test,y_pred_sgd))"
   ]
  },
  {
   "cell_type": "markdown",
   "metadata": {},
   "source": [
    "### Save Model"
   ]
  },
  {
   "cell_type": "code",
   "execution_count": 58,
   "metadata": {},
   "outputs": [],
   "source": [
    "import pickle"
   ]
  },
  {
   "cell_type": "code",
   "execution_count": 60,
   "metadata": {},
   "outputs": [],
   "source": [
    "pickle.dump(sgd,open('desease_model.pickle','wb'))"
   ]
  },
  {
   "cell_type": "code",
   "execution_count": 61,
   "metadata": {},
   "outputs": [],
   "source": [
    "model = pickle.load(open('desease_model.pickle','rb'))"
   ]
  },
  {
   "cell_type": "code",
   "execution_count": 62,
   "metadata": {},
   "outputs": [],
   "source": [
    "y_pred_model = model.predict(x_test)"
   ]
  },
  {
   "cell_type": "code",
   "execution_count": 65,
   "metadata": {},
   "outputs": [
    {
     "data": {
      "text/plain": [
       "0.9932885906040269"
      ]
     },
     "execution_count": 65,
     "metadata": {},
     "output_type": "execute_result"
    }
   ],
   "source": [
    "accuracy_score(y_test,y_pred_model)"
   ]
  },
  {
   "cell_type": "markdown",
   "metadata": {},
   "source": [
    "# Project End"
   ]
  }
 ],
 "metadata": {
  "kernelspec": {
   "display_name": "Python 3.8.10 32-bit",
   "language": "python",
   "name": "python3"
  },
  "language_info": {
   "codemirror_mode": {
    "name": "ipython",
    "version": 3
   },
   "file_extension": ".py",
   "mimetype": "text/x-python",
   "name": "python",
   "nbconvert_exporter": "python",
   "pygments_lexer": "ipython3",
   "version": "3.8.10"
  },
  "vscode": {
   "interpreter": {
    "hash": "3b732b6ccab2b53507aac253f81fea5011ac871437c77133d0869498dbb28b25"
   }
  }
 },
 "nbformat": 4,
 "nbformat_minor": 4
}
